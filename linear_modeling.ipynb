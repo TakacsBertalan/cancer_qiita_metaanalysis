{
 "cells": [
  {
   "cell_type": "code",
   "execution_count": 1,
   "id": "60bec251-4727-494b-82e9-270052b0f2ca",
   "metadata": {},
   "outputs": [],
   "source": [
    "import statsmodels.api as sm\n",
    "from statsmodels.formula.api import ols\n",
    "import numpy as np\n",
    "import pandas as pd\n",
    "import statsmodels.formula.api as smf\n",
    "from statsmodels.tools.sm_exceptions import ConvergenceWarning"
   ]
  },
  {
   "cell_type": "code",
   "execution_count": 2,
   "id": "e647696e-a11f-4f1a-be69-90ee9e3000d7",
   "metadata": {},
   "outputs": [
    {
     "name": "stdout",
     "output_type": "stream",
     "text": [
      "biosamplemodel                     object\n",
      "collection_date                    object\n",
      "control_vs_patient                 object\n",
      "ebi_metadata_retrieved             object\n",
      "ena_first_public                   object\n",
      "ena_last_update                    object\n",
      "env_material                       object\n",
      "experiment_design_description      object\n",
      "experiment_title                   object\n",
      "experiment_title_specific          object\n",
      "geo_loc_name                       object\n",
      "host                               object\n",
      "instrument_model                   object\n",
      "lat_lon                            object\n",
      "library_layout                     object\n",
      "library_name                       object\n",
      "library_source                     object\n",
      "primary_experimental_variable      object\n",
      "qebil_prep_file                    object\n",
      "qiita_study_alias                  object\n",
      "qiita_study_title                  object\n",
      "sample_accession                   object\n",
      "sample_alias                       object\n",
      "sample_site                        object\n",
      "sample_title                       object\n",
      "sample_title_specific              object\n",
      "scientific_name                    object\n",
      "secondary_sample_accession         object\n",
      "study_accession                    object\n",
      "study_alias                        object\n",
      "study_title                      category\n",
      "taxon_id                           object\n",
      "tumor_type                         object\n",
      "tissue_type                        object\n",
      "fixation_method                  category\n",
      "shannon_entropy                   float64\n",
      "tissue_types                     category\n",
      "dtype: object\n"
     ]
    }
   ],
   "source": [
    "alpha_df = pd.read_csv(\"./shannon_diversity_metadata.tsv\", sep = \"\\t\", index_col = \"id\")\n",
    "alpha_df = alpha_df.drop(\"#q2:types\")\n",
    "\n",
    "alpha_df[\"tissue_types\"] = alpha_df[\"tissue_type\"].astype(\"category\")\n",
    "alpha_df[\"study_title\"] = alpha_df[\"study_title\"].astype(\"category\")\n",
    "alpha_df[\"fixation_method\"] = alpha_df[\"fixation_method\"].astype(\"category\")\n",
    "alpha_df[\"shannon_entropy\"] = alpha_df[\"shannon_entropy\"].astype(str).astype(float)\n",
    "\n",
    "print(alpha_df.dtypes)"
   ]
  },
  {
   "cell_type": "code",
   "execution_count": 3,
   "id": "b27d2400-4d33-4e62-96e2-40660640094d",
   "metadata": {},
   "outputs": [],
   "source": [
    "def read_in_data(input_file, target_feature):\n",
    "    df = pd.read_csv(input_file, sep = \"\\t\", index_col = \"id\")\n",
    "    df = df.drop(\"#q2:types\")\n",
    "\n",
    "    df[\"tissue_types\"] = df[\"tissue_type\"].astype(\"category\")\n",
    "    df[\"study_title\"] = df[\"study_title\"].astype(\"category\")\n",
    "    df[\"fixation_method\"] = df[\"fixation_method\"].astype(\"category\")\n",
    "    df[target_feature] = df[target_feature].astype(str).astype(float)\n",
    "    return df\n",
    "    \n",
    "def create_model(input_file, target_feature):\n",
    "\n",
    "    feature_table = read_in_data(input_file, target_feature)\n",
    "    metadata_technical = 'study_title + fixation_method'\n",
    "    metadata_biological = 'tissue_type'\n",
    "    \n",
    "    anova_results = {}\n",
    "\n",
    "    lm = ols(target_feature + '~'  + metadata_biological + '+' + metadata_technical, data = feature_table).fit()\n",
    "    print(lm.summary())\n",
    "    table = sm.stats.anova_lm(lm, typ = 2)\n",
    "    print(table)\n",
    "    anova_results.update({target_feature:table.sort_values(by = 'PR(>F)')})\n",
    "\n",
    "    print(anova_results)"
   ]
  },
  {
   "cell_type": "code",
   "execution_count": 4,
   "id": "6d5fa7ab-1bfc-4ed8-8e01-99d5782908b2",
   "metadata": {},
   "outputs": [
    {
     "name": "stdout",
     "output_type": "stream",
     "text": [
      "Index(['study_title', 'fixation_method', 'tissue_types'], dtype='object')\n"
     ]
    },
    {
     "data": {
      "text/plain": [
       "id\n",
       "178664.14099.SAMN16262001           pancreatic\n",
       "178702.14146.SAMN09908085    colorectal mucosa\n",
       "178702.14146.SAMN09908089    colorectal mucosa\n",
       "178702.14146.SAMN09908071    colorectal mucosa\n",
       "178718.14099.SAMN16262005           pancreatic\n",
       "                                   ...        \n",
       "179088.14191.SAMN16691961       gastric mucosa\n",
       "179088.14191.SAMN16691960       gastric mucosa\n",
       "178770.14140.SAMN12261653    easophagal mucosa\n",
       "178770.14140.SAMN12261648    easophagal mucosa\n",
       "178770.14140.SAMN12261651    easophagal mucosa\n",
       "Name: tissue_type, Length: 292, dtype: object"
      ]
     },
     "execution_count": 4,
     "metadata": {},
     "output_type": "execute_result"
    }
   ],
   "source": [
    "cat_columns = alpha_df.select_dtypes(['category']).columns\n",
    "print(cat_columns)\n",
    "\n",
    "alpha_df[cat_columns] = alpha_df[cat_columns].apply(lambda x: x.cat.codes)\n",
    "alpha_df[\"tissue_type\"]"
   ]
  },
  {
   "cell_type": "code",
   "execution_count": 5,
   "id": "f75f2bd4-50aa-4e51-8570-adfd410f7a24",
   "metadata": {},
   "outputs": [],
   "source": [
    "alpha_metrics_anova = 'shannon_entropy'\n",
    "metadata_technical = 'study_title + fixation_method'\n",
    "metadata_biological = 'tissue_type'"
   ]
  },
  {
   "cell_type": "code",
   "execution_count": 6,
   "id": "aacfb7d4-5b13-462b-b10b-09ad2bdfcead",
   "metadata": {},
   "outputs": [
    {
     "name": "stdout",
     "output_type": "stream",
     "text": [
      "{'shannon_entropy':                      sum_sq     df          F        PR(>F)\n",
      "tissue_type      716.984931    8.0  50.188521  7.072539e-50\n",
      "study_title        6.608485    1.0   3.700720  5.539905e-02\n",
      "fixation_method    0.629843    1.0   0.352709  5.530614e-01\n",
      "Residual         501.789953  281.0        NaN           NaN}\n"
     ]
    }
   ],
   "source": [
    "anova_results = {}\n",
    "\n",
    "lm = ols(alpha_metrics_anova + '~' + metadata_biological + '+' + metadata_technical, data = alpha_df).fit()\n",
    "table = sm.stats.anova_lm(lm, typ = 2)\n",
    "anova_results.update({alpha_metrics_anova:table.sort_values(by = 'PR(>F)')})\n",
    "\n",
    "print(anova_results)"
   ]
  },
  {
   "cell_type": "code",
   "execution_count": 7,
   "id": "3bd38ae5-e13b-4749-af28-d32bf2ce704d",
   "metadata": {},
   "outputs": [
    {
     "name": "stdout",
     "output_type": "stream",
     "text": [
      "                            OLS Regression Results                            \n",
      "==============================================================================\n",
      "Dep. Variable:        shannon_entropy   R-squared:                       0.832\n",
      "Model:                            OLS   Adj. R-squared:                  0.822\n",
      "Method:                 Least Squares   F-statistic:                     84.94\n",
      "Date:                Fri, 15 Dec 2023   Prob (F-statistic):           2.40e-96\n",
      "Time:                        10:20:45   Log-Likelihood:                -419.09\n",
      "No. Observations:                 292   AIC:                             872.2\n",
      "Df Residuals:                     275   BIC:                             934.7\n",
      "Df Model:                          16                                         \n",
      "Covariance Type:            nonrobust                                         \n",
      "====================================================================================================================================================================================================\n",
      "                                                                                                                                       coef    std err          t      P>|t|      [0.025      0.975]\n",
      "----------------------------------------------------------------------------------------------------------------------------------------------------------------------------------------------------\n",
      "Intercept                                                                                                                            4.5560      0.106     42.941      0.000       4.347       4.765\n",
      "tissue_type[T.breast]                                                                                                               -3.0418      0.166    -18.310      0.000      -3.369      -2.715\n",
      "tissue_type[T.colorectal]                                                                                                            1.2714      0.256      4.959      0.000       0.767       1.776\n",
      "tissue_type[T.colorectal mucosa]                                                                                                     1.5572      0.124     12.543      0.000       1.313       1.802\n",
      "tissue_type[T.easophagal mucosa]                                                                                                     0.7841      0.282      2.784      0.006       0.230       1.338\n",
      "tissue_type[T.gastric]                                                                                                               1.3783      0.127     10.836      0.000       1.128       1.629\n",
      "tissue_type[T.gastric mucosa]                                                                                                        0.3321      0.147      2.265      0.024       0.043       0.621\n",
      "tissue_type[T.lung]                                                                                                                  1.2309      0.180      6.821      0.000       0.876       1.586\n",
      "tissue_type[T.pancreatic]                                                                                                            1.0653      0.193      5.532      0.000       0.686       1.444\n",
      "study_title[T.Association of distinct gut microbiome patterns with consensus molecular subtypes of colorectal cancer]               -0.6785      0.317     -2.140      0.033      -1.303      -0.054\n",
      "study_title[T.Bladder microbiota in paired samples of tumor and nontumor mucosa.]                                                   -1.1964      0.398     -3.007      0.003      -1.980      -0.413\n",
      "study_title[T.CRC microbiome pilot]                                                                                                  2.3271      0.371      6.274      0.000       1.597       3.057\n",
      "study_title[T.Human gut microbiome sequencing project]                                                                              -0.4672      0.161     -2.897      0.004      -0.785      -0.150\n",
      "study_title[T.Lung microbiome of non-small cell lung cancer]                                                                        -0.9653      0.259     -3.723      0.000      -1.476      -0.455\n",
      "study_title[T.Lung microbiota of non small-cell cancer patients]                                                                    -0.2020      0.409     -0.493      0.622      -1.008       0.604\n",
      "study_title[T.Malaysia (MAL1) Cohort of Colorectal Cancer Patients with and without Biofilm Formation]                               2.0350      0.192     10.591      0.000       1.657       2.413\n",
      "study_title[T.Malaysia (MAL2) Cohort of Colorectal Cancer Patients with and without Biofilm Formation]                              -0.3771      0.781     -0.483      0.630      -1.914       1.160\n",
      "study_title[T.Microbiome of bladder tissue and urine of bladder cancer patients]                                                     1.1747      0.348      3.378      0.001       0.490       1.859\n",
      "study_title[T.Microbiota characterization in Lung Cancer]                                                                            2.3982      0.352      6.815      0.000       1.705       3.091\n",
      "study_title[T.Microbiota signature in colorectal cancer]                                                                            -0.0106      0.188     -0.056      0.955      -0.381       0.360\n",
      "study_title[T.Mucosal signature of the esophageal microbiota in patients with Barrett's esophagus and esophageal adenocarcinoma]     0.7841      0.282      2.784      0.006       0.230       1.338\n",
      "study_title[T.PC_tumor_16SampSeq]                                                                                                    1.0653      0.193      5.532      0.000       0.686       1.444\n",
      "study_title[T.gastric mucosa Raw sequence reads]                                                                                     0.4729      0.172      2.745      0.006       0.134       0.812\n",
      "study_title[T.mucosal microbiota sequencing of gastric lesions]                                                                      0.3321      0.147      2.265      0.024       0.043       0.621\n",
      "study_title[T.stomach microbiome shape in two gastric cancer subtypes]                                                               0.9054      0.179      5.053      0.000       0.553       1.258\n",
      "fixation_method[T.Fresh frozen]                                                                                                     -0.4895      0.117     -4.177      0.000      -0.720      -0.259\n",
      "fixation_method[T.Other]                                                                                                             1.0397      0.153      6.812      0.000       0.739       1.340\n",
      "==============================================================================\n",
      "Omnibus:                       30.914   Durbin-Watson:                   2.192\n",
      "Prob(Omnibus):                  0.000   Jarque-Bera (JB):              111.249\n",
      "Skew:                           0.341   Prob(JB):                     6.96e-25\n",
      "Kurtosis:                       5.946   Cond. No.                     1.60e+16\n",
      "==============================================================================\n",
      "\n",
      "Notes:\n",
      "[1] Standard Errors assume that the covariance matrix of the errors is correctly specified.\n",
      "[2] The smallest eigenvalue is  2e-30. This might indicate that there are\n",
      "strong multicollinearity problems or that the design matrix is singular.\n",
      "                      sum_sq     df           F         PR(>F)\n",
      "tissue_type      1049.400332    8.0  119.573613   6.284016e-85\n",
      "study_title      4521.544112   16.0  257.603008  4.331933e-155\n",
      "fixation_method    64.555431    2.0   29.422999   2.634186e-12\n",
      "Residual          301.681413  275.0         NaN            NaN\n",
      "{'shannon_entropy':                       sum_sq     df           F         PR(>F)\n",
      "study_title      4521.544112   16.0  257.603008  4.331933e-155\n",
      "tissue_type      1049.400332    8.0  119.573613   6.284016e-85\n",
      "fixation_method    64.555431    2.0   29.422999   2.634186e-12\n",
      "Residual          301.681413  275.0         NaN            NaN}\n"
     ]
    }
   ],
   "source": [
    "create_model(\"shannon_diversity_metadata.tsv\", \"shannon_entropy\")"
   ]
  },
  {
   "cell_type": "code",
   "execution_count": 8,
   "id": "71477ad0-bab6-4b6d-9277-ba684dc8f3d1",
   "metadata": {},
   "outputs": [
    {
     "name": "stdout",
     "output_type": "stream",
     "text": [
      "                            OLS Regression Results                            \n",
      "==============================================================================\n",
      "Dep. Variable:        pielou_evenness   R-squared:                       0.871\n",
      "Model:                            OLS   Adj. R-squared:                  0.864\n",
      "Method:                 Least Squares   F-statistic:                     116.4\n",
      "Date:                Fri, 15 Dec 2023   Prob (F-statistic):          2.99e-112\n",
      "Time:                        10:20:45   Log-Likelihood:                 271.09\n",
      "No. Observations:                 292   AIC:                            -508.2\n",
      "Df Residuals:                     275   BIC:                            -445.7\n",
      "Df Model:                          16                                         \n",
      "Covariance Type:            nonrobust                                         \n",
      "====================================================================================================================================================================================================\n",
      "                                                                                                                                       coef    std err          t      P>|t|      [0.025      0.975]\n",
      "----------------------------------------------------------------------------------------------------------------------------------------------------------------------------------------------------\n",
      "Intercept                                                                                                                            0.5504      0.010     55.137      0.000       0.531       0.570\n",
      "tissue_type[T.breast]                                                                                                               -0.3941      0.016    -25.215      0.000      -0.425      -0.363\n",
      "tissue_type[T.colorectal]                                                                                                            0.1161      0.024      4.815      0.000       0.069       0.164\n",
      "tissue_type[T.colorectal mucosa]                                                                                                     0.1316      0.012     11.268      0.000       0.109       0.155\n",
      "tissue_type[T.easophagal mucosa]                                                                                                     0.0628      0.026      2.372      0.018       0.011       0.115\n",
      "tissue_type[T.gastric]                                                                                                               0.1505      0.012     12.581      0.000       0.127       0.174\n",
      "tissue_type[T.gastric mucosa]                                                                                                        0.0393      0.014      2.850      0.005       0.012       0.066\n",
      "tissue_type[T.lung]                                                                                                                  0.1837      0.017     10.821      0.000       0.150       0.217\n",
      "tissue_type[T.pancreatic]                                                                                                            0.1263      0.018      6.973      0.000       0.091       0.162\n",
      "study_title[T.Association of distinct gut microbiome patterns with consensus molecular subtypes of colorectal cancer]                0.0152      0.030      0.511      0.610      -0.043       0.074\n",
      "study_title[T.Bladder microbiota in paired samples of tumor and nontumor mucosa.]                                                    0.0146      0.037      0.389      0.697      -0.059       0.088\n",
      "study_title[T.CRC microbiome pilot]                                                                                                  0.1723      0.035      4.937      0.000       0.104       0.241\n",
      "study_title[T.Human gut microbiome sequencing project]                                                                              -0.0301      0.015     -1.987      0.048      -0.060      -0.000\n",
      "study_title[T.Lung microbiome of non-small cell lung cancer]                                                                         0.0496      0.024      2.032      0.043       0.002       0.098\n",
      "study_title[T.Lung microbiota of non small-cell cancer patients]                                                                     0.0300      0.039      0.778      0.437      -0.046       0.106\n",
      "study_title[T.Malaysia (MAL1) Cohort of Colorectal Cancer Patients with and without Biofilm Formation]                               0.1704      0.018      9.427      0.000       0.135       0.206\n",
      "study_title[T.Malaysia (MAL2) Cohort of Colorectal Cancer Patients with and without Biofilm Formation]                              -0.0714      0.073     -0.971      0.332      -0.216       0.073\n",
      "study_title[T.Microbiome of bladder tissue and urine of bladder cancer patients]                                                     0.1194      0.033      3.649      0.000       0.055       0.184\n",
      "study_title[T.Microbiota characterization in Lung Cancer]                                                                            0.1042      0.033      3.147      0.002       0.039       0.169\n",
      "study_title[T.Microbiota signature in colorectal cancer]                                                                            -0.0087      0.018     -0.489      0.625      -0.044       0.026\n",
      "study_title[T.Mucosal signature of the esophageal microbiota in patients with Barrett's esophagus and esophageal adenocarcinoma]     0.0628      0.026      2.372      0.018       0.011       0.115\n",
      "study_title[T.PC_tumor_16SampSeq]                                                                                                    0.1263      0.018      6.973      0.000       0.091       0.162\n",
      "study_title[T.gastric mucosa Raw sequence reads]                                                                                     0.0099      0.016      0.611      0.542      -0.022       0.042\n",
      "study_title[T.mucosal microbiota sequencing of gastric lesions]                                                                      0.0393      0.014      2.850      0.005       0.012       0.066\n",
      "study_title[T.stomach microbiome shape in two gastric cancer subtypes]                                                               0.1406      0.017      8.343      0.000       0.107       0.174\n",
      "fixation_method[T.Fresh frozen]                                                                                                     -0.0156      0.011     -1.414      0.158      -0.037       0.006\n",
      "fixation_method[T.Other]                                                                                                             0.1286      0.014      8.954      0.000       0.100       0.157\n",
      "==============================================================================\n",
      "Omnibus:                       63.197   Durbin-Watson:                   2.166\n",
      "Prob(Omnibus):                  0.000   Jarque-Bera (JB):              366.836\n",
      "Skew:                           0.713   Prob(JB):                     2.20e-80\n",
      "Kurtosis:                       8.302   Cond. No.                     1.60e+16\n",
      "==============================================================================\n",
      "\n",
      "Notes:\n",
      "[1] Standard Errors assume that the covariance matrix of the errors is correctly specified.\n",
      "[2] The smallest eigenvalue is  2e-30. This might indicate that there are\n",
      "strong multicollinearity problems or that the design matrix is singular.\n",
      "                    sum_sq     df           F         PR(>F)\n",
      "tissue_type      14.235084    8.0  183.261411  1.692842e-105\n",
      "study_title      61.126564   16.0  393.469415  5.151209e-179\n",
      "fixation_method   0.781236    2.0   40.230314   4.725127e-16\n",
      "Residual          2.670126  275.0         NaN            NaN\n",
      "{'pielou_evenness':                     sum_sq     df           F         PR(>F)\n",
      "study_title      61.126564   16.0  393.469415  5.151209e-179\n",
      "tissue_type      14.235084    8.0  183.261411  1.692842e-105\n",
      "fixation_method   0.781236    2.0   40.230314   4.725127e-16\n",
      "Residual          2.670126  275.0         NaN            NaN}\n"
     ]
    }
   ],
   "source": [
    "create_model(\"evenness_metadata.tsv\",\"pielou_evenness\")"
   ]
  },
  {
   "cell_type": "code",
   "execution_count": 9,
   "id": "c820de1a-ee99-4787-a479-d2fdcab6e92e",
   "metadata": {},
   "outputs": [
    {
     "name": "stdout",
     "output_type": "stream",
     "text": [
      "                            OLS Regression Results                            \n",
      "==============================================================================\n",
      "Dep. Variable:               faith_pd   R-squared:                       0.786\n",
      "Model:                            OLS   Adj. R-squared:                  0.773\n",
      "Method:                 Least Squares   F-statistic:                     63.11\n",
      "Date:                Fri, 15 Dec 2023   Prob (F-statistic):           3.73e-82\n",
      "Time:                        10:20:45   Log-Likelihood:                -1247.4\n",
      "No. Observations:                 292   AIC:                             2529.\n",
      "Df Residuals:                     275   BIC:                             2591.\n",
      "Df Model:                          16                                         \n",
      "Covariance Type:            nonrobust                                         \n",
      "====================================================================================================================================================================================================\n",
      "                                                                                                                                       coef    std err          t      P>|t|      [0.025      0.975]\n",
      "----------------------------------------------------------------------------------------------------------------------------------------------------------------------------------------------------\n",
      "Intercept                                                                                                                           18.2615      1.810     10.090      0.000      14.699      21.824\n",
      "tissue_type[T.breast]                                                                                                              -12.3571      2.834     -4.361      0.000     -17.936      -6.779\n",
      "tissue_type[T.colorectal]                                                                                                            4.7324      4.373      1.082      0.280      -3.877      13.342\n",
      "tissue_type[T.colorectal mucosa]                                                                                                     0.0999      2.118      0.047      0.962      -4.069       4.269\n",
      "tissue_type[T.easophagal mucosa]                                                                                                    -2.4872      4.804     -0.518      0.605     -11.944       6.970\n",
      "tissue_type[T.gastric]                                                                                                              29.1069      2.170     13.416      0.000      24.836      33.378\n",
      "tissue_type[T.gastric mucosa]                                                                                                       39.6243      2.502     15.840      0.000      34.700      44.549\n",
      "tissue_type[T.lung]                                                                                                                -10.1847      3.078     -3.308      0.001     -16.245      -4.124\n",
      "tissue_type[T.pancreatic]                                                                                                            1.5191      3.285      0.462      0.644      -4.947       7.986\n",
      "study_title[T.Association of distinct gut microbiome patterns with consensus molecular subtypes of colorectal cancer]              -21.5917      5.408     -3.992      0.000     -32.239     -10.945\n",
      "study_title[T.Bladder microbiota in paired samples of tumor and nontumor mucosa.]                                                  -27.7268      6.786     -4.086      0.000     -41.086     -14.367\n",
      "study_title[T.CRC microbiome pilot]                                                                                                 26.2000      6.327      4.141      0.000      13.745      38.655\n",
      "study_title[T.Human gut microbiome sequencing project]                                                                             -13.9489      2.751     -5.071      0.000     -19.364      -8.534\n",
      "study_title[T.Lung microbiome of non-small cell lung cancer]                                                                       -17.0741      4.423     -3.860      0.000     -25.781      -8.367\n",
      "study_title[T.Lung microbiota of non small-cell cancer patients]                                                                   -13.6399      6.982     -1.954      0.052     -27.385       0.105\n",
      "study_title[T.Malaysia (MAL1) Cohort of Colorectal Cancer Patients with and without Biofilm Formation]                              11.1379      3.278      3.398      0.001       4.685      17.590\n",
      "study_title[T.Malaysia (MAL2) Cohort of Colorectal Cancer Patients with and without Biofilm Formation]                               0.1241     13.320      0.009      0.993     -26.099      26.347\n",
      "study_title[T.Microbiome of bladder tissue and urine of bladder cancer patients]                                                    -4.0652      5.932     -0.685      0.494     -15.743       7.613\n",
      "study_title[T.Microbiota characterization in Lung Cancer]                                                                           20.5293      6.002      3.420      0.001       8.713      32.345\n",
      "study_title[T.Microbiota signature in colorectal cancer]                                                                             2.9108      3.212      0.906      0.366      -3.412       9.234\n",
      "study_title[T.Mucosal signature of the esophageal microbiota in patients with Barrett's esophagus and esophageal adenocarcinoma]    -2.4872      4.804     -0.518      0.605     -11.944       6.970\n",
      "study_title[T.PC_tumor_16SampSeq]                                                                                                    1.5191      3.285      0.462      0.644      -4.947       7.986\n",
      "study_title[T.gastric mucosa Raw sequence reads]                                                                                    59.6260      2.938     20.293      0.000      53.842      65.410\n",
      "study_title[T.mucosal microbiota sequencing of gastric lesions]                                                                     39.6243      2.502     15.840      0.000      34.700      44.549\n",
      "study_title[T.stomach microbiome shape in two gastric cancer subtypes]                                                             -30.5191      3.056     -9.985      0.000     -36.536     -24.502\n",
      "fixation_method[T.Fresh frozen]                                                                                                     14.5134      1.999      7.261      0.000      10.578      18.448\n",
      "fixation_method[T.Other]                                                                                                            21.6101      2.603      8.301      0.000      16.485      26.735\n",
      "==============================================================================\n",
      "Omnibus:                       42.513   Durbin-Watson:                   1.618\n",
      "Prob(Omnibus):                  0.000   Jarque-Bera (JB):              306.019\n",
      "Skew:                           0.230   Prob(JB):                     3.54e-67\n",
      "Kurtosis:                       7.994   Cond. No.                     1.60e+16\n",
      "==============================================================================\n",
      "\n",
      "Notes:\n",
      "[1] Standard Errors assume that the covariance matrix of the errors is correctly specified.\n",
      "[2] The smallest eigenvalue is  2e-30. This might indicate that there are\n",
      "strong multicollinearity problems or that the design matrix is singular.\n",
      "                        sum_sq     df          F        PR(>F)\n",
      "tissue_type      161730.419794    8.0  63.336478  5.148060e-58\n",
      "study_title      411325.382044   16.0  80.541129  9.615758e-94\n",
      "fixation_method   42998.294056    2.0  67.355554  1.557960e-24\n",
      "Residual          87776.954459  275.0        NaN           NaN\n",
      "{'faith_pd':                         sum_sq     df          F        PR(>F)\n",
      "study_title      411325.382044   16.0  80.541129  9.615758e-94\n",
      "tissue_type      161730.419794    8.0  63.336478  5.148060e-58\n",
      "fixation_method   42998.294056    2.0  67.355554  1.557960e-24\n",
      "Residual          87776.954459  275.0        NaN           NaN}\n"
     ]
    }
   ],
   "source": [
    "create_model(\"faithpd_metadata.tsv\",\"faith_pd\")"
   ]
  }
 ],
 "metadata": {
  "kernelspec": {
   "display_name": "qiime2-2023.7",
   "language": "python",
   "name": "qiime2-2023.7"
  },
  "language_info": {
   "codemirror_mode": {
    "name": "ipython",
    "version": 3
   },
   "file_extension": ".py",
   "mimetype": "text/x-python",
   "name": "python",
   "nbconvert_exporter": "python",
   "pygments_lexer": "ipython3",
   "version": "3.8.15"
  }
 },
 "nbformat": 4,
 "nbformat_minor": 5
}
